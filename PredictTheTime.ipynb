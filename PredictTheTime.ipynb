{
  "nbformat": 4,
  "nbformat_minor": 0,
  "metadata": {
    "colab": {
      "name": "PredictTheTime.ipynb",
      "provenance": [],
      "collapsed_sections": [],
      "toc_visible": true,
      "include_colab_link": true
    },
    "kernelspec": {
      "name": "python3",
      "display_name": "Python 3"
    }
  },
  "cells": [
    {
      "cell_type": "markdown",
      "metadata": {
        "id": "view-in-github",
        "colab_type": "text"
      },
      "source": [
        "<a href=\"https://colab.research.google.com/github/PhanQuangTan/CS114.K21/blob/master/PredictTheTime.ipynb\" target=\"_parent\"><img src=\"https://colab.research.google.com/assets/colab-badge.svg\" alt=\"Open In Colab\"/></a>"
      ]
    },
    {
      "cell_type": "markdown",
      "metadata": {
        "id": "pboqDr5xvO6A",
        "colab_type": "text"
      },
      "source": [
        "# Kết nối với drive"
      ]
    },
    {
      "cell_type": "code",
      "metadata": {
        "id": "DxM8pt9mzDPw",
        "colab_type": "code",
        "colab": {
          "base_uri": "https://localhost:8080/",
          "height": 34
        },
        "outputId": "0f0fd466-1e17-4bb1-813d-ce12cf673cd6"
      },
      "source": [
        " # Kết nối google colab với drive để load dataset\n",
        "from google.colab import drive\n",
        "drive.mount('/content/drive') # Kết nối với drive"
      ],
      "execution_count": null,
      "outputs": [
        {
          "output_type": "stream",
          "text": [
            "Drive already mounted at /content/drive; to attempt to forcibly remount, call drive.mount(\"/content/drive\", force_remount=True).\n"
          ],
          "name": "stdout"
        }
      ]
    },
    {
      "cell_type": "markdown",
      "metadata": {
        "id": "UnUpe_fgvinE",
        "colab_type": "text"
      },
      "source": [
        "# Hàm đọc file và file về drive"
      ]
    },
    {
      "cell_type": "code",
      "metadata": {
        "colab_type": "code",
        "id": "2F9Rr7RufTPn",
        "colab": {}
      },
      "source": [
        "import requests # Thư viện request là mô-đun được sử dụng để gửi yêu cầu HTTP.\n",
        "file_url = 'https://cs.uit.edu.vn/data2.txt'# Địa chỉ URL cần gửi request.\n",
        "r = requests.get(file_url, stream = True)     # Gửi một yêu cầu HTTP GET requests tới địa chỉ.\n",
        "with open('/content/drive/My Drive/Dataset/data2.txt', 'wb') as file: # Tạo 1 file data2.txt trong drive và mở file ở chế độ ghi.\n",
        "  for block in r.iter_content(chunk_size = 1024): # Vòng for dùng để đọc file với sô byte mỗi lần đọc là 1024 byte.\n",
        "    if block:\n",
        "      file.write(block) # Ghi dữ liệu vào file data.txt.\n",
        "# Nguồn: https://anonyviet.com/huong-dan-dung-colab-de-download-file-ve-google-drive/"
      ],
      "execution_count": null,
      "outputs": []
    },
    {
      "cell_type": "code",
      "metadata": {
        "id": "lX_WIitZuaX-",
        "colab_type": "code",
        "colab": {}
      },
      "source": [
        "import numpy as np # Thư viện numpy dùng để xử lý trên mảng nhiều chiều.\n",
        "import pandas as pd # Thư viện pandas giúp phân tich và xử lý dữ liệu."
      ],
      "execution_count": null,
      "outputs": []
    },
    {
      "cell_type": "code",
      "metadata": {
        "id": "A8z3F8yauy9m",
        "colab_type": "code",
        "colab": {}
      },
      "source": [
        "def paretxt(fname): \n",
        "  for line in open(fname, 'r'): # Đọc từng dòng dữ liệu.\n",
        "    yield eval(line) # Đọc từng hàng dữ liệu trên dòng."
      ],
      "execution_count": null,
      "outputs": []
    },
    {
      "cell_type": "markdown",
      "metadata": {
        "id": "XLCHwh7Nv5TP",
        "colab_type": "text"
      },
      "source": [
        "# Hàm đọc dữ liệu và đưa vào mảng"
      ]
    },
    {
      "cell_type": "code",
      "metadata": {
        "id": "CxyYNhRlvDCA",
        "colab_type": "code",
        "colab": {}
      },
      "source": [
        "\n",
        "file_name = '/content/drive/My Drive/Dataset/data2.txt'\n",
        "data = list(paretxt(file_name)) # Load dữ liệu và lít data"
      ],
      "execution_count": null,
      "outputs": []
    },
    {
      "cell_type": "code",
      "metadata": {
        "id": "QOE5AVCMwBC8",
        "colab_type": "code",
        "colab": {}
      },
      "source": [
        "df = pd.DataFrame(data) # Chuyển DataFrame từ  list data sang biến lưu trữ df của pandas.\n",
        "df.columns=['size', 'time'] # Đặt tên cho hai cột."
      ],
      "execution_count": null,
      "outputs": []
    },
    {
      "cell_type": "code",
      "metadata": {
        "id": "eJ2QLPtqwVNG",
        "colab_type": "code",
        "colab": {}
      },
      "source": [
        "from sklearn.model_selection import train_test_split # Thêm hàm từ thư viện sklearn để chia dữ liệu dùng để train và test.\n",
        "import matplotlib.pyplot as plt # Thêm thứ viên  matplotlib đề vễ biểu đồ."
      ],
      "execution_count": null,
      "outputs": []
    },
    {
      "cell_type": "code",
      "metadata": {
        "id": "1lVIGRxLUMMa",
        "colab_type": "code",
        "colab": {}
      },
      "source": [
        "X = df['size'] # Gán dữ liệu từ cột size vào list X.\n",
        "y = df['time'] # Gán dữ liệu từ cột time vào list y"
      ],
      "execution_count": null,
      "outputs": []
    },
    {
      "cell_type": "code",
      "metadata": {
        "id": "bdNCfOzcM8A2",
        "colab_type": "code",
        "colab": {}
      },
      "source": [
        "X_train, X_test, y_train, y_test = train_test_split(X, y, test_size = 0.2, random_state = 0)\n",
        "# Phân chia dữ liệu để trai và test với tỉ lệ 80% train và 20% test"
      ],
      "execution_count": null,
      "outputs": []
    },
    {
      "cell_type": "code",
      "metadata": {
        "id": "cn5ESLmaSHL2",
        "colab_type": "code",
        "colab": {}
      },
      "source": [
        "from sklearn import linear_model # Thêm model từ trong thư viện.\n",
        "regr = linear_model.LinearRegression()"
      ],
      "execution_count": null,
      "outputs": []
    },
    {
      "cell_type": "code",
      "metadata": {
        "id": "bI94LV92awv8",
        "colab_type": "code",
        "colab": {}
      },
      "source": [
        "X_train = X_train.values.reshape(-1, 1) # Chuyển vị ma trận.\n",
        "X_test = X_test.values.reshape(-1, 1)"
      ],
      "execution_count": null,
      "outputs": []
    },
    {
      "cell_type": "code",
      "metadata": {
        "id": "TCdruGcIVCVw",
        "colab_type": "code",
        "colab": {
          "base_uri": "https://localhost:8080/",
          "height": 34
        },
        "outputId": "df3bd490-4eb9-4cb5-954b-6f05b50f50c5"
      },
      "source": [
        "regr.fit(X_train, y_train) # Thực hiện việc train model với bộ dữ liệu dùng để train."
      ],
      "execution_count": null,
      "outputs": [
        {
          "output_type": "execute_result",
          "data": {
            "text/plain": [
              "LinearRegression(copy_X=True, fit_intercept=True, n_jobs=None, normalize=False)"
            ]
          },
          "metadata": {
            "tags": []
          },
          "execution_count": 21
        }
      ]
    },
    {
      "cell_type": "code",
      "metadata": {
        "id": "4UAIaU6e0D81",
        "colab_type": "code",
        "colab": {}
      },
      "source": [
        "pred = regr.predict(X_test)"
      ],
      "execution_count": null,
      "outputs": []
    },
    {
      "cell_type": "code",
      "metadata": {
        "id": "kyloWSALcH0B",
        "colab_type": "code",
        "colab": {
          "base_uri": "https://localhost:8080/",
          "height": 51
        },
        "outputId": "7da5bf62-c481-4985-ee26-cd364f3acaed"
      },
      "source": [
        "print('He So: \\n', regr.coef_)"
      ],
      "execution_count": null,
      "outputs": [
        {
          "output_type": "stream",
          "text": [
            "He So: \n",
            " [8.45606811e-08]\n"
          ],
          "name": "stdout"
        }
      ]
    },
    {
      "cell_type": "code",
      "metadata": {
        "id": "W-3vQaHnc85j",
        "colab_type": "code",
        "colab": {}
      },
      "source": [
        "from sklearn.metrics import mean_squared_error, r2_score\n",
        "# Thêm hàm để tính giá trị MSE và hàm tính tỉ lệ giữa kết quả dự đoán và kết quả trong bộ dữ liệu test"
      ],
      "execution_count": null,
      "outputs": []
    },
    {
      "cell_type": "code",
      "metadata": {
        "id": "XvoAkwFrdLBL",
        "colab_type": "code",
        "colab": {
          "base_uri": "https://localhost:8080/",
          "height": 34
        },
        "outputId": "4b9c8baa-bbe4-4314-e00e-c970feaab899"
      },
      "source": [
        "print('He so xac dinh: %.10f' % r2_score(y_test, pred)) # Độ chính xác của model khi dự đoán dữ liệu test"
      ],
      "execution_count": null,
      "outputs": [
        {
          "output_type": "stream",
          "text": [
            "He so xac dinh: 0.9974404168\n"
          ],
          "name": "stdout"
        }
      ]
    },
    {
      "cell_type": "code",
      "metadata": {
        "id": "-VEpppdPcWiK",
        "colab_type": "code",
        "colab": {
          "base_uri": "https://localhost:8080/",
          "height": 34
        },
        "outputId": "e938691f-45de-4c2a-9936-4c4c79ea1d47"
      },
      "source": [
        "print('Loi binh phuong: %.10f' % mean_squared_error(y_test, pred)) # Tính MSE"
      ],
      "execution_count": null,
      "outputs": [
        {
          "output_type": "stream",
          "text": [
            "Loi binh phuong: 0.0001522917\n"
          ],
          "name": "stdout"
        }
      ]
    },
    {
      "cell_type": "code",
      "metadata": {
        "id": "qHfO7Cpy8wla",
        "colab_type": "code",
        "colab": {}
      },
      "source": [
        "import math"
      ],
      "execution_count": null,
      "outputs": []
    },
    {
      "cell_type": "code",
      "metadata": {
        "id": "d7oRYZCP0a0J",
        "colab_type": "code",
        "colab": {
          "base_uri": "https://localhost:8080/",
          "height": 51
        },
        "outputId": "de872afa-38c7-4694-b987-387ba4f4b37c"
      },
      "source": [
        "c = np.mean(y_test)\n",
        "print(c)\n",
        "er = math.sqrt(mean_squared_error(y_test, pred))\n",
        "print('%10f' % er)"
      ],
      "execution_count": null,
      "outputs": [
        {
          "output_type": "stream",
          "text": [
            "0.40617171433480914\n",
            "  0.012341\n"
          ],
          "name": "stdout"
        }
      ]
    },
    {
      "cell_type": "markdown",
      "metadata": {
        "id": "mzzYRn98xjCu",
        "colab_type": "text"
      },
      "source": [
        "# Đánh giá model thông qua giá trị MSE = 0.000152291 và độ chính xác: 0.9974404168\n",
        "# Model có độ chính xác khoảng 99,74% nhưng tỉ lệ lỗi là 0.012341 nên model dữ đoán trên thực sự là không tốt lắm."
      ]
    },
    {
      "cell_type": "code",
      "metadata": {
        "id": "TcaVQOiydvrq",
        "colab_type": "code",
        "colab": {
          "base_uri": "https://localhost:8080/",
          "height": 252
        },
        "outputId": "d463b6d9-d734-47eb-9120-59f4dd45f9cb"
      },
      "source": [
        "\n",
        "plt.scatter(X_test, y_test,  color='black')\n",
        "plt.plot(X_test, pred, color='blue', linewidth=3)\n",
        "\n",
        "plt.xticks(())\n",
        "plt.yticks(())\n",
        "\n",
        "plt.show()"
      ],
      "execution_count": null,
      "outputs": [
        {
          "output_type": "display_data",
          "data": {
            "image/png": "[encoded data removed]",
            "text/plain": [
              "<Figure size 432x288 with 1 Axes>"
            ]
          },
          "metadata": {
            "tags": []
          }
        }
      ]
    },
    {
      "cell_type": "markdown",
      "metadata": {
        "id": "78rlnINRxawq",
        "colab_type": "text"
      },
      "source": [
        "# Dùng model trên sau đó nhập data chưa mới vào đó.\n",
        "# Ứng dụng đơn giản của model trên."
      ]
    },
    {
      "cell_type": "code",
      "metadata": {
        "id": "u1f_7zp1C2ej",
        "colab_type": "code",
        "colab": {}
      },
      "source": [
        "X_new = float(input(\"Nhập giá trị bạn muốn dự đoán : \\n\"))\n",
        "\n",
        "y_pred = my_model.predict([[X_new]])\n",
        "\n",
        "print('Thời gian chạy là : %.10f' % Y_pred)"
      ],
      "execution_count": null,
      "outputs": []
    }
  ]
}