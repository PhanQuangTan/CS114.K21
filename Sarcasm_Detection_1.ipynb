{
  "nbformat": 4,
  "nbformat_minor": 0,
  "metadata": {
    "colab": {
      "name": "Sarcasm Detection_1.ipynb",
      "provenance": [],
      "authorship_tag": "ABX9TyO50vA4ePBeMRB42+cI1IIi",
      "include_colab_link": true
    },
    "kernelspec": {
      "name": "python3",
      "display_name": "Python 3"
    }
  },
  "cells": [
    {
      "cell_type": "markdown",
      "metadata": {
        "id": "view-in-github",
        "colab_type": "text"
      },
      "source": [
        "<a href=\"https://colab.research.google.com/github/PhanQuangTan/CS114.K21/blob/master/Sarcasm_Detection_1.ipynb\" target=\"_parent\"><img src=\"https://colab.research.google.com/assets/colab-badge.svg\" alt=\"Open In Colab\"/></a>"
      ]
    },
    {
      "cell_type": "code",
      "metadata": {
        "id": "jN6wDvYcQfLp",
        "colab_type": "code",
        "colab": {
          "base_uri": "https://localhost:8080/",
          "height": 54
        },
        "outputId": "59702c3a-49f3-481d-fe81-0d005a0e0c7e"
      },
      "source": [
        "from google.colab import drive\n",
        "drive.mount('/content/drive')"
      ],
      "execution_count": 36,
      "outputs": [
        {
          "output_type": "stream",
          "text": [
            "Drive already mounted at /content/drive; to attempt to forcibly remount, call drive.mount(\"/content/drive\", force_remount=True).\n"
          ],
          "name": "stdout"
        }
      ]
    },
    {
      "cell_type": "code",
      "metadata": {
        "id": "1LWAFmsMQwM9",
        "colab_type": "code",
        "colab": {}
      },
      "source": [
        "import numpy as np\n",
        "import pandas as pd\n",
        "import json \n",
        "datastore = []\n",
        "for line in open('/content/drive/My Drive/train/Sarcasm/Sarcasm_Headlines_Dataset_v2.json','r'):\n",
        "  datastore.append(json.loads(line))"
      ],
      "execution_count": 0,
      "outputs": []
    },
    {
      "cell_type": "code",
      "metadata": {
        "id": "YLYFXP9rSQX9",
        "colab_type": "code",
        "colab": {}
      },
      "source": [
        "sentences = []\n",
        "labels = []\n",
        "for item in datastore:\n",
        "  sentences.append(item['headline'])\n",
        "  labels.append(item['is_sarcastic'])"
      ],
      "execution_count": 0,
      "outputs": []
    },
    {
      "cell_type": "code",
      "metadata": {
        "id": "1LRnCfL4Uukj",
        "colab_type": "code",
        "colab": {
          "base_uri": "https://localhost:8080/",
          "height": 50
        },
        "outputId": "1dfa179f-6e7f-40a3-8dd1-28e545f67408"
      },
      "source": [
        "print(sentences[1])\n",
        "print(len(labels))"
      ],
      "execution_count": 39,
      "outputs": [
        {
          "output_type": "stream",
          "text": [
            "dem rep. totally nails why congress is falling short on gender, racial equality\n",
            "28619\n"
          ],
          "name": "stdout"
        }
      ]
    },
    {
      "cell_type": "code",
      "metadata": {
        "id": "Q3Lh_IefWnyj",
        "colab_type": "code",
        "colab": {}
      },
      "source": [
        "import tensorflow as tf\n",
        "from tensorflow import keras\n",
        "from keras.preprocessing.text import Tokenizer\n",
        "from keras.preprocessing.sequence import pad_sequences"
      ],
      "execution_count": 0,
      "outputs": []
    },
    {
      "cell_type": "code",
      "metadata": {
        "id": "xlcaSBBpG6L4",
        "colab_type": "code",
        "colab": {
          "base_uri": "https://localhost:8080/",
          "height": 34
        },
        "outputId": "715880e0-af02-47ad-b50a-7999c704c52b"
      },
      "source": [
        "vocab_size = 10000\n",
        "max_length = 50\n",
        "embedding_dim = 200 \n",
        "padd_type = 'post'\n",
        "trunc_type = 'post'\n",
        "\n",
        "tokenizer = Tokenizer(num_words = vocab_size)\n",
        "tokenizer.fit_on_texts(sentences)\n",
        "word_index = tokenizer.word_index\n",
        "print(len(word_index))"
      ],
      "execution_count": 42,
      "outputs": [
        {
          "output_type": "stream",
          "text": [
            "30884\n"
          ],
          "name": "stdout"
        }
      ]
    },
    {
      "cell_type": "code",
      "metadata": {
        "id": "-hg8oteczKAR",
        "colab_type": "code",
        "colab": {}
      },
      "source": [
        "sequences = tokenizer.texts_to_sequences(sentences)\n",
        "padded = pad_sequences(sequences,maxlen = max_length,padding = padd_type, truncating = trunc_type )"
      ],
      "execution_count": 0,
      "outputs": []
    },
    {
      "cell_type": "code",
      "metadata": {
        "id": "MmA3S6mQzQW3",
        "colab_type": "code",
        "colab": {
          "base_uri": "https://localhost:8080/",
          "height": 34
        },
        "outputId": "95d77014-7c6d-427b-a595-4078708ce763"
      },
      "source": [
        "print(type(padded))"
      ],
      "execution_count": 44,
      "outputs": [
        {
          "output_type": "stream",
          "text": [
            "<class 'numpy.ndarray'>\n"
          ],
          "name": "stdout"
        }
      ]
    },
    {
      "cell_type": "code",
      "metadata": {
        "id": "rXbm7JkHzXzb",
        "colab_type": "code",
        "colab": {
          "base_uri": "https://localhost:8080/",
          "height": 34
        },
        "outputId": "f264c54d-8dfb-4c3c-901b-55e3a9583cc7"
      },
      "source": [
        "labels = np.array(labels)\n",
        "print(type(labels))"
      ],
      "execution_count": 45,
      "outputs": [
        {
          "output_type": "stream",
          "text": [
            "<class 'numpy.ndarray'>\n"
          ],
          "name": "stdout"
        }
      ]
    },
    {
      "cell_type": "code",
      "metadata": {
        "id": "T9zq0CM6zZlR",
        "colab_type": "code",
        "colab": {}
      },
      "source": [
        "from keras.layers import *"
      ],
      "execution_count": 0,
      "outputs": []
    },
    {
      "cell_type": "code",
      "metadata": {
        "id": "4r3Ej8J5zbX-",
        "colab_type": "code",
        "colab": {}
      },
      "source": [
        "model = tf.keras.Sequential([\n",
        "    tf.keras.layers.Embedding(vocab_size, embedding_dim, input_length=max_length),\n",
        "    tf.keras.layers.Dropout(0.2),\n",
        "    tf.keras.layers.Conv1D(64, 5, activation='relu'),\n",
        "    tf.keras.layers.MaxPooling1D(pool_size=4),\n",
        "    tf.keras.layers.LSTM(128,return_sequences = True),\n",
        "    tf.keras.layers.LSTM(64),\n",
        "    tf.keras.layers.Dense(24,activation = 'relu'),\n",
        "    tf.keras.layers.Dropout(0.2),\n",
        "    tf.keras.layers.Dense(1, activation='sigmoid')\n",
        "])"
      ],
      "execution_count": 0,
      "outputs": []
    },
    {
      "cell_type": "code",
      "metadata": {
        "id": "20EYMfdIzc8W",
        "colab_type": "code",
        "colab": {
          "base_uri": "https://localhost:8080/",
          "height": 454
        },
        "outputId": "b7af614e-c4a0-404e-aeca-eb685040d6ce"
      },
      "source": [
        "model.compile(loss='binary_crossentropy',optimizer='adam',metrics=['accuracy'])\n",
        "model.summary()"
      ],
      "execution_count": 48,
      "outputs": [
        {
          "output_type": "stream",
          "text": [
            "Model: \"sequential\"\n",
            "_________________________________________________________________\n",
            "Layer (type)                 Output Shape              Param #   \n",
            "=================================================================\n",
            "embedding (Embedding)        (None, 50, 200)           2000000   \n",
            "_________________________________________________________________\n",
            "dropout (Dropout)            (None, 50, 200)           0         \n",
            "_________________________________________________________________\n",
            "conv1d (Conv1D)              (None, 46, 64)            64064     \n",
            "_________________________________________________________________\n",
            "max_pooling1d (MaxPooling1D) (None, 11, 64)            0         \n",
            "_________________________________________________________________\n",
            "lstm (LSTM)                  (None, 11, 128)           98816     \n",
            "_________________________________________________________________\n",
            "lstm_1 (LSTM)                (None, 64)                49408     \n",
            "_________________________________________________________________\n",
            "dense (Dense)                (None, 24)                1560      \n",
            "_________________________________________________________________\n",
            "dropout_1 (Dropout)          (None, 24)                0         \n",
            "_________________________________________________________________\n",
            "dense_1 (Dense)              (None, 1)                 25        \n",
            "=================================================================\n",
            "Total params: 2,213,873\n",
            "Trainable params: 2,213,873\n",
            "Non-trainable params: 0\n",
            "_________________________________________________________________\n"
          ],
          "name": "stdout"
        }
      ]
    },
    {
      "cell_type": "code",
      "metadata": {
        "id": "rCUtRk_0zg6N",
        "colab_type": "code",
        "colab": {
          "base_uri": "https://localhost:8080/",
          "height": 373
        },
        "outputId": "f9de115b-f8fb-48c1-fc87-bd0612c42bbb"
      },
      "source": [
        "num_epochs = 10\n",
        "history = model.fit(padded, labels,epochs = num_epochs, verbose = 1,validation_split = 0.2)"
      ],
      "execution_count": 49,
      "outputs": [
        {
          "output_type": "stream",
          "text": [
            "Epoch 1/10\n",
            "716/716 [==============================] - 49s 68ms/step - loss: 0.4230 - accuracy: 0.7970 - val_loss: 0.3546 - val_accuracy: 0.8541\n",
            "Epoch 2/10\n",
            "716/716 [==============================] - 48s 67ms/step - loss: 0.1929 - accuracy: 0.9306 - val_loss: 0.3413 - val_accuracy: 0.8494\n",
            "Epoch 3/10\n",
            "716/716 [==============================] - 48s 68ms/step - loss: 0.0758 - accuracy: 0.9760 - val_loss: 0.4982 - val_accuracy: 0.8480\n",
            "Epoch 4/10\n",
            "716/716 [==============================] - 48s 67ms/step - loss: 0.0328 - accuracy: 0.9896 - val_loss: 0.6730 - val_accuracy: 0.8433\n",
            "Epoch 5/10\n",
            "716/716 [==============================] - 48s 67ms/step - loss: 0.0212 - accuracy: 0.9934 - val_loss: 0.7312 - val_accuracy: 0.8349\n",
            "Epoch 6/10\n",
            "716/716 [==============================] - 48s 68ms/step - loss: 0.0167 - accuracy: 0.9945 - val_loss: 0.9393 - val_accuracy: 0.8421\n",
            "Epoch 7/10\n",
            "716/716 [==============================] - 48s 68ms/step - loss: 0.0132 - accuracy: 0.9951 - val_loss: 0.8943 - val_accuracy: 0.8466\n",
            "Epoch 8/10\n",
            "716/716 [==============================] - 49s 68ms/step - loss: 0.0124 - accuracy: 0.9965 - val_loss: 0.9815 - val_accuracy: 0.8377\n",
            "Epoch 9/10\n",
            "716/716 [==============================] - 49s 68ms/step - loss: 0.0103 - accuracy: 0.9967 - val_loss: 1.0911 - val_accuracy: 0.8443\n",
            "Epoch 10/10\n",
            "716/716 [==============================] - 49s 69ms/step - loss: 0.0086 - accuracy: 0.9972 - val_loss: 1.1310 - val_accuracy: 0.8340\n"
          ],
          "name": "stdout"
        }
      ]
    },
    {
      "cell_type": "code",
      "metadata": {
        "id": "ylLmXMuy1_GX",
        "colab_type": "code",
        "colab": {
          "base_uri": "https://localhost:8080/",
          "height": 50
        },
        "outputId": "8c827dc6-626a-478c-cce4-9833800c53b2"
      },
      "source": [
        "print(history.history['val_accuracy'][9])\n",
        "print(history.history['val_loss'][9])"
      ],
      "execution_count": 50,
      "outputs": [
        {
          "output_type": "stream",
          "text": [
            "0.8340321183204651\n",
            "1.1309618949890137\n"
          ],
          "name": "stdout"
        }
      ]
    },
    {
      "cell_type": "code",
      "metadata": {
        "id": "Bs9VbwKr2Del",
        "colab_type": "code",
        "colab": {
          "base_uri": "https://localhost:8080/",
          "height": 264
        },
        "outputId": "522cb734-4881-4012-ae45-8b7d3c5d8439"
      },
      "source": [
        "import matplotlib.pyplot as plt\n",
        "\n",
        "fig, (ax1, ax2) = plt.subplots(1,2,figsize=(15,5))\n",
        "fig.suptitle(\"Performance of Model without pretrained embeddings\")\n",
        "ax1.plot(history.history['accuracy'])\n",
        "ax1.plot(history.history['val_accuracy'])\n",
        "vline_cut = np.where(history.history['val_accuracy'] == np.max(history.history['val_accuracy']))[0][0]\n",
        "ax1.axvline(x=vline_cut, color='k', linestyle='--')\n",
        "ax1.set_title(\"Model Accuracy\")\n",
        "ax1.legend(['train', 'test'])\n",
        "\n",
        "ax2.plot(history.history['loss'])\n",
        "ax2.plot(history.history['val_loss'])\n",
        "vline_cut = np.where(history.history['val_loss'] == np.min(history.history['val_loss']))[0][0]\n",
        "ax2.axvline(x=vline_cut, color='k', linestyle='--')\n",
        "ax2.set_title(\"Model Loss\")\n",
        "ax2.legend(['train', 'test'])\n",
        "plt.show()\n"
      ],
      "execution_count": 51,
      "outputs": [
        {
          "output_type": "display_data",
          "data": {
            "image/png": "[encoded data removed]",
            "text/plain": [
              "<Figure size 1080x360 with 2 Axes>"
            ]
          },
          "metadata": {
            "tags": [],
            "needs_background": "light"
          }
        }
      ]
    }
  ]
}