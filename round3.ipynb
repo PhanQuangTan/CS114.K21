{
  "nbformat": 4,
  "nbformat_minor": 0,
  "metadata": {
    "colab": {
      "name": "round3.ipynb",
      "provenance": [],
      "collapsed_sections": [],
      "include_colab_link": true
    },
    "kernelspec": {
      "name": "python3",
      "display_name": "Python 3"
    }
  },
  "cells": [
    {
      "cell_type": "markdown",
      "metadata": {
        "id": "view-in-github",
        "colab_type": "text"
      },
      "source": [
        "<a href=\"https://colab.research.google.com/github/PhanQuangTan/CS114.K21/blob/master/round3.ipynb\" target=\"_parent\"><img src=\"https://colab.research.google.com/assets/colab-badge.svg\" alt=\"Open In Colab\"/></a>"
      ]
    },
    {
      "cell_type": "code",
      "metadata": {
        "id": "YTOILNl_zFR4",
        "colab_type": "code",
        "outputId": "a3a5bee0-efe9-4b8a-c803-15675528ec89",
        "colab": {
          "base_uri": "https://localhost:8080/",
          "height": 121
        }
      },
      "source": [
        "from google.colab import drive\n",
        "\n",
        "drive.mount('/content/drive')"
      ],
      "execution_count": 1,
      "outputs": [
        {
          "output_type": "stream",
          "text": [
            "Go to this URL in a browser: https://accounts.google.com/o/oauth2/auth?client_id=947318989803-6bn6qk8qdgf4n4g3pfee6491hc0brc4i.apps.googleusercontent.com&redirect_uri=urn%3aietf%3awg%3aoauth%3a2.0%3aoob&response_type=code&scope=email%20https%3a%2f%2fwww.googleapis.com%2fauth%2fdocs.test%20https%3a%2f%2fwww.googleapis.com%2fauth%2fdrive%20https%3a%2f%2fwww.googleapis.com%2fauth%2fdrive.photos.readonly%20https%3a%2f%2fwww.googleapis.com%2fauth%2fpeopleapi.readonly\n",
            "\n",
            "Enter your authorization code:\n",
            "··········\n",
            "Mounted at /content/drive\n"
          ],
          "name": "stdout"
        }
      ]
    },
    {
      "cell_type": "markdown",
      "metadata": {
        "id": "x8LIOCsciyDk",
        "colab_type": "text"
      },
      "source": [
        "# Kết nối với thư mục Colab Notebook\n",
        "# Nguồn: stackoverflow.com"
      ]
    },
    {
      "cell_type": "code",
      "metadata": {
        "id": "mGT-krBE2GSe",
        "colab_type": "code",
        "outputId": "0478fa70-65d9-47a6-f435-ef0e6dd60ef8",
        "colab": {
          "base_uri": "https://localhost:8080/",
          "height": 34
        }
      },
      "source": [
        "%cd \"/content/drive/My Drive/Colab Notebooks/\" "
      ],
      "execution_count": 2,
      "outputs": [
        {
          "output_type": "stream",
          "text": [
            "/content/drive/My Drive/Colab Notebooks\n"
          ],
          "name": "stdout"
        }
      ]
    },
    {
      "cell_type": "code",
      "metadata": {
        "id": "ojJL-1CabBKF",
        "colab_type": "code",
        "outputId": "1fc7acb8-a627-4415-aa49-3eedf6a9e696",
        "colab": {
          "base_uri": "https://localhost:8080/",
          "height": 168
        }
      },
      "source": [
        "!pip install import-ipynb\n",
        "import import_ipynb"
      ],
      "execution_count": 3,
      "outputs": [
        {
          "output_type": "stream",
          "text": [
            "Collecting import-ipynb\n",
            "  Downloading https://files.pythonhosted.org/packages/63/35/495e0021bfdcc924c7cdec4e9fbb87c88dd03b9b9b22419444dc370c8a45/import-ipynb-0.1.3.tar.gz\n",
            "Building wheels for collected packages: import-ipynb\n",
            "  Building wheel for import-ipynb (setup.py) ... \u001b[?25l\u001b[?25hdone\n",
            "  Created wheel for import-ipynb: filename=import_ipynb-0.1.3-cp36-none-any.whl size=2976 sha256=ec3226a5a146ad36c246780476a2cf934b0211d4580ebdee72e04dffd925d14b\n",
            "  Stored in directory: /root/.cache/pip/wheels/b4/7b/e9/a3a6e496115dffdb4e3085d0ae39ffe8a814eacc44bbf494b5\n",
            "Successfully built import-ipynb\n",
            "Installing collected packages: import-ipynb\n",
            "Successfully installed import-ipynb-0.1.3\n"
          ],
          "name": "stdout"
        }
      ]
    },
    {
      "cell_type": "markdown",
      "metadata": {
        "id": "oUMp8YKp1Jju",
        "colab_type": "text"
      },
      "source": [
        "# Link data [link text](https://drive.google.com/drive/u/2/folders/1QWUvs-IIL2123I17TkNVzPR5aoFiqXJR)\n",
        "# Tải file về google drive"
      ]
    },
    {
      "cell_type": "code",
      "metadata": {
        "id": "I3-kap6JzXQb",
        "colab_type": "code",
        "colab": {}
      },
      "source": [
        "import requests\n",
        "file_url = 'https://cs.uit.edu.vn/data3.txt'\n",
        "r = requests.get(file_url, stream = True)\n",
        "with open('/content/drive/My Drive/Dataset/data3.txt', 'wb') as file:\n",
        "  for block in r.iter_content(chunk_size = 1024):\n",
        "    if block:\n",
        "      file.write(block)"
      ],
      "execution_count": 0,
      "outputs": []
    },
    {
      "cell_type": "markdown",
      "metadata": {
        "id": "0kHloDy4jqD8",
        "colab_type": "text"
      },
      "source": [
        "# Hàm paretxt từng dòng dữ liệu trong file\n",
        "# # Nguồn Kaggle"
      ]
    },
    {
      "cell_type": "code",
      "metadata": {
        "id": "8DNyO23AzcSU",
        "colab_type": "code",
        "colab": {}
      },
      "source": [
        "import numpy as np\n",
        "import pandas as pd\n",
        "from sklearn.metrics import mean_squared_error, r2_score\n",
        "def paretxt(fname):\n",
        "  for line in open(fname, 'r'):\n",
        "    yield eval(line)"
      ],
      "execution_count": 0,
      "outputs": []
    },
    {
      "cell_type": "code",
      "metadata": {
        "id": "rHB4i1V0zm6u",
        "colab_type": "code",
        "colab": {}
      },
      "source": [
        "file_name = '/content/drive/My Drive/Dataset/data3.txt'\n",
        "data = list(paretxt(file_name))"
      ],
      "execution_count": 0,
      "outputs": []
    },
    {
      "cell_type": "code",
      "metadata": {
        "id": "yQ4RgeIJzsyQ",
        "colab_type": "code",
        "outputId": "2b503902-d81d-4abe-ce77-b5a70a502b3a",
        "colab": {
          "base_uri": "https://localhost:8080/",
          "height": 252
        }
      },
      "source": [
        "df = pd.DataFrame(data)\n",
        "df.columns=['size', 'time']\n",
        "print(df)"
      ],
      "execution_count": 52,
      "outputs": [
        {
          "output_type": "stream",
          "text": [
            "           size     time\n",
            "0      37837612  4.12166\n",
            "1      37395246  3.92089\n",
            "2      36610827  3.21540\n",
            "3      29555651  2.54506\n",
            "4      25928216  2.21831\n",
            "...         ...      ...\n",
            "10585  26872494  2.35117\n",
            "10586  20753811  1.79155\n",
            "10587  33520323  2.90918\n",
            "10588  21243264  1.80292\n",
            "10589  21380484  1.82795\n",
            "\n",
            "[10590 rows x 2 columns]\n"
          ],
          "name": "stdout"
        }
      ]
    },
    {
      "cell_type": "code",
      "metadata": {
        "id": "-i7aFIvlz10M",
        "colab_type": "code",
        "outputId": "6686bcbf-8e12-4690-daf7-547396b2a801",
        "colab": {
          "base_uri": "https://localhost:8080/",
          "height": 279
        }
      },
      "source": [
        "from sklearn.model_selection import train_test_split\n",
        "import matplotlib.pyplot as plt\n",
        "plt.scatter(df['size'], df['time'])\n",
        "plt.xlabel('size')\n",
        "plt.ylabel('time')\n",
        "plt.show()"
      ],
      "execution_count": 9,
      "outputs": [
        {
          "output_type": "display_data",
          "data": {
            "image/png": "[encoded data removed]",
            "text/plain": [
              "<Figure size 432x288 with 1 Axes>"
            ]
          },
          "metadata": {
            "tags": [],
            "needs_background": "light"
          }
        }
      ]
    },
    {
      "cell_type": "code",
      "metadata": {
        "id": "Jd_SwcA-z7Vu",
        "colab_type": "code",
        "colab": {
          "base_uri": "https://localhost:8080/",
          "height": 218
        },
        "outputId": "ffa702ac-f699-40c1-e0b7-5a771c7e82d2"
      },
      "source": [
        "X3 = df['size']\n",
        "y3 = df['time']\n",
        "print(X3)"
      ],
      "execution_count": 81,
      "outputs": [
        {
          "output_type": "stream",
          "text": [
            "0        37837612\n",
            "1        37395246\n",
            "2        36610827\n",
            "3        29555651\n",
            "4        25928216\n",
            "           ...   \n",
            "10585    26872494\n",
            "10586    20753811\n",
            "10587    33520323\n",
            "10588    21243264\n",
            "10589    21380484\n",
            "Name: size, Length: 10590, dtype: int64\n"
          ],
          "name": "stdout"
        }
      ]
    },
    {
      "cell_type": "code",
      "metadata": {
        "id": "Dr8uoqE2g-1e",
        "colab_type": "code",
        "colab": {}
      },
      "source": [
        "X3 = X3.values.reshape(-1, 1) "
      ],
      "execution_count": 0,
      "outputs": []
    },
    {
      "cell_type": "code",
      "metadata": {
        "id": "Ho0DhhZ0bEvD",
        "colab_type": "code",
        "outputId": "47585b55-1ae3-47af-ca9c-61cd4d8ca2e9",
        "colab": {
          "base_uri": "https://localhost:8080/",
          "height": 34
        }
      },
      "source": [
        "import PredictTheTime as ptt\n",
        "pred3 = ptt.regr.predict(X3)\n",
        "print(pred3)"
      ],
      "execution_count": 83,
      "outputs": [
        {
          "output_type": "stream",
          "text": [
            "[3.1836499  3.14624313 3.07991213 ... 2.818577   1.78042053 1.79202395]\n"
          ],
          "name": "stdout"
        }
      ]
    },
    {
      "cell_type": "code",
      "metadata": {
        "id": "_DlrGCFleI7L",
        "colab_type": "code",
        "outputId": "7a0a1310-d72e-473f-e61e-0f036820cc06",
        "colab": {
          "base_uri": "https://localhost:8080/",
          "height": 34
        }
      },
      "source": [
        "print('He so xac dinh: %.10f' % r2_score(y3, pred3))"
      ],
      "execution_count": 84,
      "outputs": [
        {
          "output_type": "stream",
          "text": [
            "He so xac dinh: 0.9284898234\n"
          ],
          "name": "stdout"
        }
      ]
    },
    {
      "cell_type": "markdown",
      "metadata": {
        "id": "GEXRlaer1vtf",
        "colab_type": "text"
      },
      "source": [
        "# - Kết quả tệ hơn.\n",
        "# - Vấn gặp phải overfitting. Vì data mới có nhiều dữ liệu nhiễu hơn làm giảm độ chính xác model."
      ]
    },
    {
      "cell_type": "code",
      "metadata": {
        "id": "BZpPey8rlY8Q",
        "colab_type": "code",
        "outputId": "b81484c1-243e-4b1f-e808-7cd382d6a25a",
        "colab": {
          "base_uri": "https://localhost:8080/",
          "height": 252
        }
      },
      "source": [
        "import matplotlib.pyplot as plt\n",
        "plt.scatter(X3, y3,  color='black')\n",
        "plt.plot(X3, pred_1, color='blue', linewidth=3)\n",
        "\n",
        "plt.xticks(())\n",
        "plt.yticks(())\n",
        "\n",
        "plt.show()"
      ],
      "execution_count": 70,
      "outputs": [
        {
          "output_type": "display_data",
          "data": {
            "image/png": "[encoded data removed]",
            "text/plain": [
              "<Figure size 432x288 with 1 Axes>"
            ]
          },
          "metadata": {
            "tags": []
          }
        }
      ]
    },
    {
      "cell_type": "code",
      "metadata": {
        "id": "x5W37LR9R9Kc",
        "colab_type": "code",
        "colab": {}
      },
      "source": [
        "import math"
      ],
      "execution_count": 0,
      "outputs": []
    },
    {
      "cell_type": "code",
      "metadata": {
        "id": "_0KepCC0ji1_",
        "colab_type": "code",
        "colab": {
          "base_uri": "https://localhost:8080/",
          "height": 101
        },
        "outputId": "6965bb86-9be3-427c-c3c6-b42e464dac83"
      },
      "source": [
        "df['size^2'] = df['size'] * df['size']\n",
        "df['size*loge(size)'] = df['size']\n",
        "a = []\n",
        "a = df['size*loge(size)'] \n",
        "l = len(a)\n",
        "for i in range(l):\n",
        "  a[i] = a[i]*math.log(a[i])"
      ],
      "execution_count": 57,
      "outputs": [
        {
          "output_type": "stream",
          "text": [
            "/usr/local/lib/python3.6/dist-packages/ipykernel_launcher.py:7: SettingWithCopyWarning: \n",
            "A value is trying to be set on a copy of a slice from a DataFrame\n",
            "\n",
            "See the caveats in the documentation: https://pandas.pydata.org/pandas-docs/stable/user_guide/indexing.html#returning-a-view-versus-a-copy\n",
            "  import sys\n"
          ],
          "name": "stderr"
        }
      ]
    },
    {
      "cell_type": "code",
      "metadata": {
        "id": "cacZyV2hlzLI",
        "colab_type": "code",
        "colab": {
          "base_uri": "https://localhost:8080/",
          "height": 252
        },
        "outputId": "1feb356e-a8a2-4cce-885e-260e72df83d0"
      },
      "source": [
        "print(df)"
      ],
      "execution_count": 73,
      "outputs": [
        {
          "output_type": "stream",
          "text": [
            "           size     time  size*loge(size)            size^2\n",
            "0      37837612  4.12166        660221461  1431684881862544\n",
            "1      37395246  3.92089        652062929  1398404423400516\n",
            "2      36610827  3.21540        637608838  1340352653623929\n",
            "3      29555651  2.54506        508409969   873536506033801\n",
            "4      25928216  2.21831        442616487   672272384942656\n",
            "...         ...      ...              ...               ...\n",
            "10585  26872494  2.35117        459697376   722130933780036\n",
            "10586  20753811  1.79155        349665197   430720671023721\n",
            "10587  33520323  2.90918        580828842  1123612054024329\n",
            "10588  21243264  1.80292        358406799   451276265373696\n",
            "10589  21380484  1.82795        360859575   457125096074256\n",
            "\n",
            "[10590 rows x 4 columns]\n"
          ],
          "name": "stdout"
        }
      ]
    },
    {
      "cell_type": "code",
      "metadata": {
        "id": "1jbJfC2L3nj2",
        "colab_type": "code",
        "colab": {}
      },
      "source": [
        "X_3 = df[['size', 'size^2', 'size*loge(size)']]\n",
        "y_3 = df['time']\n",
        "X_3_train, X_3_test, y_3_train, y_3_test = train_test_split(X_3, y_3, test_size = 0.2, random_state = 0)"
      ],
      "execution_count": 0,
      "outputs": []
    },
    {
      "cell_type": "code",
      "metadata": {
        "id": "NMqTkZ2P8M31",
        "colab_type": "code",
        "colab": {}
      },
      "source": [
        "from sklearn import linear_model\n",
        "regr_3 = linear_model.LinearRegression()"
      ],
      "execution_count": 0,
      "outputs": []
    },
    {
      "cell_type": "code",
      "metadata": {
        "id": "sExwJJp_8ZNo",
        "colab_type": "code",
        "outputId": "1973c3f4-1b55-460a-9e0c-c895e7c8a861",
        "colab": {
          "base_uri": "https://localhost:8080/",
          "height": 34
        }
      },
      "source": [
        "regr_3.fit(X_3_train, y_3_train)"
      ],
      "execution_count": 61,
      "outputs": [
        {
          "output_type": "execute_result",
          "data": {
            "text/plain": [
              "LinearRegression(copy_X=True, fit_intercept=True, n_jobs=None, normalize=False)"
            ]
          },
          "metadata": {
            "tags": []
          },
          "execution_count": 61
        }
      ]
    },
    {
      "cell_type": "code",
      "metadata": {
        "id": "ixzukBDG8hza",
        "colab_type": "code",
        "outputId": "a9eff3f5-64d6-421e-d415-fe5b89257f32",
        "colab": {
          "base_uri": "https://localhost:8080/",
          "height": 34
        }
      },
      "source": [
        "pred_3 = regr_3.predict(X_3_test)\n",
        "print(pred_3)"
      ],
      "execution_count": 63,
      "outputs": [
        {
          "output_type": "stream",
          "text": [
            "[3.48753647 2.34232014 3.27200259 ... 2.38671623 2.43484742 1.80060221]\n"
          ],
          "name": "stdout"
        }
      ]
    },
    {
      "cell_type": "code",
      "metadata": {
        "id": "B80MxhyV8q8t",
        "colab_type": "code",
        "outputId": "5327c909-b3d1-411c-807e-ebe09f4f726a",
        "colab": {
          "base_uri": "https://localhost:8080/",
          "height": 67
        }
      },
      "source": [
        "print('He So: \\n', regr_3.coef_)\n",
        "from sklearn.metrics import mean_squared_error, r2_score\n",
        "print('Loi binh phuong: %.6f' % mean_squared_error(y_3_test, pred_3))\n"
      ],
      "execution_count": 65,
      "outputs": [
        {
          "output_type": "stream",
          "text": [
            "He So: \n",
            " [ 6.48627007e-07  6.67353099e-16 -3.27337135e-08]\n",
            "Loi binh phuong: 0.002978\n"
          ],
          "name": "stdout"
        }
      ]
    },
    {
      "cell_type": "code",
      "metadata": {
        "id": "_JyyWiRU83NB",
        "colab_type": "code",
        "outputId": "4cc83977-7b79-4356-d31b-a71e52e56aa2",
        "colab": {
          "base_uri": "https://localhost:8080/",
          "height": 50
        }
      },
      "source": [
        "print('He so xac dinh: %.10f' % r2_score(y3, pred3))\n",
        "print('He so xac dinh: %.10f' % r2_score(y_3_test, pred_3))"
      ],
      "execution_count": 85,
      "outputs": [
        {
          "output_type": "stream",
          "text": [
            "He so xac dinh: 0.9284898234\n",
            "He so xac dinh: 0.9897648045\n"
          ],
          "name": "stdout"
        }
      ]
    },
    {
      "cell_type": "markdown",
      "metadata": {
        "id": "pPw1p-wUnJ4o",
        "colab_type": "text"
      },
      "source": [
        "# Model mới tốt hơn so với model cũ.\n",
        "# Dataset ở round 3 có nhiều dữ liệu gây nhiễu nên khi dùng model ở round 2 dataset ở round 3 sẽ xảy ra hiện tượng overfitting khiến độ chính xác khi dự đoán giảm xuống khá nhiều (92,84%). Khi tăng số feature giúp tăng tương thích với model dự đoán và giúp cải thiện độ chính xác của model của mô hình dự đoán cũ."
      ]
    }
  ]
}