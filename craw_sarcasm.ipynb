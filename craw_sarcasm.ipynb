{
  "nbformat": 4,
  "nbformat_minor": 0,
  "metadata": {
    "colab": {
      "name": "craw_sarcasm.ipynb",
      "provenance": [],
      "mount_file_id": "154TnIbQHRYFQIEb2EKKfP-yn8hRcsn26",
      "authorship_tag": "ABX9TyOas18O0uZL7alGn9IMO7qd",
      "include_colab_link": true
    },
    "kernelspec": {
      "name": "python3",
      "display_name": "Python 3"
    }
  },
  "cells": [
    {
      "cell_type": "markdown",
      "metadata": {
        "id": "view-in-github",
        "colab_type": "text"
      },
      "source": [
        "<a href=\"https://colab.research.google.com/github/PhanQuangTan/CS114.K21/blob/master/craw_sarcasm.ipynb\" target=\"_parent\"><img src=\"https://colab.research.google.com/assets/colab-badge.svg\" alt=\"Open In Colab\"/></a>"
      ]
    },
    {
      "cell_type": "code",
      "metadata": {
        "id": "KP3S9gQ0uQTP",
        "colab_type": "code",
        "colab": {}
      },
      "source": [
        "import requests\n",
        "from bs4 import BeautifulSoup"
      ],
      "execution_count": null,
      "outputs": []
    },
    {
      "cell_type": "code",
      "metadata": {
        "id": "35oZxNaU7Dqi",
        "colab_type": "code",
        "colab": {
          "base_uri": "https://localhost:8080/",
          "height": 34
        },
        "outputId": "fa42b8ec-299e-4076-d7ca-419d86022a99"
      },
      "source": [
        "%cd \"/content/drive/My Drive/\" "
      ],
      "execution_count": null,
      "outputs": [
        {
          "output_type": "stream",
          "text": [
            "/content/drive/My Drive\n"
          ],
          "name": "stdout"
        }
      ]
    },
    {
      "cell_type": "code",
      "metadata": {
        "id": "_1kndp-d6aVS",
        "colab_type": "code",
        "colab": {}
      },
      "source": [
        "url = \"https://www.theonion.com/c/news-in-brief\"\n",
        "url_1 = url\n",
        "with open('/content/drive/My Drive/ya4.json', 'a') as file:\n",
        "\n",
        "  for i in range(26):\n",
        "  \n",
        "    r1 = requests.get(url_1)\n",
        "    coverpage = r1.content\n",
        "    soup1 = BeautifulSoup(coverpage, 'lxml')\n",
        "    soup2 = BeautifulSoup(coverpage, 'html5lib')\n",
        "    coverpage_news = soup1.find_all('h2', class_= \"sc-759qgu-0 cYlVdn cw4lnv-6 eXwNRE\")\n",
        "    coverpage_news_1 = soup2.find_all('a', class_='sc-1out364-0 hMndXN js_link')\n",
        "  \n",
        "    t = 12\n",
        "    while(t <=50):\n",
        "      a = coverpage_news_1[t]['href']\n",
        "      b = coverpage_news_1[t].get_text()\n",
        "   \n",
        "    \n",
        "      file.write('{\"is_sarcastic\": 1, \"headline\": \"')\n",
        "      file.write(b)\n",
        "      file.write('\", \"article_link\": \"')\n",
        "      file.write(a)\n",
        "      file.write('\"}\\n')\n",
        "\n",
        "      t += 2\n",
        "    url_1 = url + coverpage_news_1[51]['href']\n",
        "  file.close()\n",
        "  "
      ],
      "execution_count": null,
      "outputs": []
    },
    {
      "cell_type": "code",
      "metadata": {
        "id": "gEPb9gEGFkYo",
        "colab_type": "code",
        "colab": {}
      },
      "source": [
        "url = \"https://www.theonion.com/c/news-in-photos\"\n",
        "url_1 = url\n",
        "with open('/content/drive/My Drive/ya4.json', 'a') as file:\n",
        "\n",
        "  for i in range(26):\n",
        "  \n",
        "    r1 = requests.get(url_1)\n",
        "    coverpage = r1.content\n",
        "    soup1 = BeautifulSoup(coverpage, 'lxml')\n",
        "    soup2 = BeautifulSoup(coverpage, 'html5lib')\n",
        "    coverpage_news = soup1.find_all('h2', class_= \"sc-759qgu-0 cYlVdn cw4lnv-6 eXwNRE\")\n",
        "    coverpage_news_1 = soup2.find_all('a', class_='sc-1out364-0 hMndXN js_link')\n",
        "  \n",
        "    t = 12\n",
        "    while(t <=50):\n",
        "      a = coverpage_news_1[t]['href']\n",
        "      b = coverpage_news_1[t].get_text()\n",
        "   \n",
        "    \n",
        "      file.write('{\"is_sarcastic\": 1, \"headline\": \"')\n",
        "      file.write(b)\n",
        "      file.write('\", \"article_link\": \"')\n",
        "      file.write(a)\n",
        "      file.write('\"}\\n')\n",
        "\n",
        "      t += 2\n",
        "    url_1 = url + coverpage_news_1[51]['href']\n",
        "  file.close()"
      ],
      "execution_count": null,
      "outputs": []
    }
  ]
}