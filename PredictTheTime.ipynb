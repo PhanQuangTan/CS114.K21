{
  "nbformat": 4,
  "nbformat_minor": 0,
  "metadata": {
    "colab": {
      "name": "PredictTheTime.ipynb",
      "provenance": [],
      "authorship_tag": "ABX9TyMVjE+VWRRtcH0VZvc51lug",
      "include_colab_link": true
    },
    "kernelspec": {
      "name": "python3",
      "display_name": "Python 3"
    }
  },
  "cells": [
    {
      "cell_type": "markdown",
      "metadata": {
        "id": "view-in-github",
        "colab_type": "text"
      },
      "source": [
        "<a href=\"https://colab.research.google.com/github/PhanQuangTan/CS114.K21/blob/master/PredictTheTime.ipynb\" target=\"_parent\"><img src=\"https://colab.research.google.com/assets/colab-badge.svg\" alt=\"Open In Colab\"/></a>"
      ]
    },
    {
      "cell_type": "code",
      "metadata": {
        "id": "N9CQOvrAcM03",
        "colab_type": "code",
        "outputId": "359ae7fc-5b92-4087-d9e6-8634a570556a",
        "colab": {
          "base_uri": "https://localhost:8080/",
          "height": 121
        }
      },
      "source": [
        "from google.colab import drive\n",
        "\n",
        "drive.mount('/content/drive')"
      ],
      "execution_count": 1,
      "outputs": [
        {
          "output_type": "stream",
          "text": [
            "Go to this URL in a browser: https://accounts.google.com/o/oauth2/auth?client_id=947318989803-6bn6qk8qdgf4n4g3pfee6491hc0brc4i.apps.googleusercontent.com&redirect_uri=urn%3aietf%3awg%3aoauth%3a2.0%3aoob&response_type=code&scope=email%20https%3a%2f%2fwww.googleapis.com%2fauth%2fdocs.test%20https%3a%2f%2fwww.googleapis.com%2fauth%2fdrive%20https%3a%2f%2fwww.googleapis.com%2fauth%2fdrive.photos.readonly%20https%3a%2f%2fwww.googleapis.com%2fauth%2fpeopleapi.readonly\n",
            "\n",
            "Enter your authorization code:\n",
            "··········\n",
            "Mounted at /content/drive\n"
          ],
          "name": "stdout"
        }
      ]
    },
    {
      "cell_type": "markdown",
      "metadata": {
        "id": "pboqDr5xvO6A",
        "colab_type": "text"
      },
      "source": [
        "# Kết nối với drive"
      ]
    },
    {
      "cell_type": "code",
      "metadata": {
        "colab_type": "code",
        "id": "2F9Rr7RufTPn",
        "colab": {}
      },
      "source": [
        "import requests\n",
        "file_url = 'https://cs.uit.edu.vn/data2.txt'\n",
        "r = requests.get(file_url, stream = True)\n",
        "with open('/content/drive/My Drive/Dataset/data.txt', 'wb') as file:\n",
        "  for block in r.iter_content(chunk_size = 1024):\n",
        "    if block:\n",
        "      file.write(block)"
      ],
      "execution_count": 0,
      "outputs": []
    },
    {
      "cell_type": "markdown",
      "metadata": {
        "id": "UnUpe_fgvinE",
        "colab_type": "text"
      },
      "source": [
        "# Hàm đọc file và file về drive"
      ]
    },
    {
      "cell_type": "code",
      "metadata": {
        "id": "lX_WIitZuaX-",
        "colab_type": "code",
        "colab": {}
      },
      "source": [
        "import numpy as np\n",
        "import pandas as pd"
      ],
      "execution_count": 0,
      "outputs": []
    },
    {
      "cell_type": "code",
      "metadata": {
        "id": "A8z3F8yauy9m",
        "colab_type": "code",
        "colab": {}
      },
      "source": [
        "def paretxt(fname):\n",
        "  for line in open(fname, 'r'):\n",
        "    yield eval(line)"
      ],
      "execution_count": 0,
      "outputs": []
    },
    {
      "cell_type": "markdown",
      "metadata": {
        "id": "XLCHwh7Nv5TP",
        "colab_type": "text"
      },
      "source": [
        "# Hàm đọc dữ liệu và đưa vào mảng"
      ]
    },
    {
      "cell_type": "code",
      "metadata": {
        "id": "CxyYNhRlvDCA",
        "colab_type": "code",
        "colab": {}
      },
      "source": [
        "\n",
        "file_name = '/content/drive/My Drive/Dataset/data.txt'\n",
        "data = list(paretxt(file_name))"
      ],
      "execution_count": 0,
      "outputs": []
    },
    {
      "cell_type": "markdown",
      "metadata": {
        "id": "UANo53iyv-tp",
        "colab_type": "text"
      },
      "source": [
        "# Load dữ liệu"
      ]
    },
    {
      "cell_type": "code",
      "metadata": {
        "id": "QOE5AVCMwBC8",
        "colab_type": "code",
        "outputId": "07d55011-9cc6-4206-faa0-1bb6b2d7218b",
        "colab": {
          "base_uri": "https://localhost:8080/",
          "height": 252
        }
      },
      "source": [
        "df = pd.DataFrame(data)\n",
        "df.columns=['size', 'time']\n",
        "print(df)\n"
      ],
      "execution_count": 10,
      "outputs": [
        {
          "output_type": "stream",
          "text": [
            "          size      time\n",
            "0      6083695  0.521842\n",
            "1      1954367  0.152648\n",
            "2      3734185  0.298548\n",
            "3      5839301  0.460480\n",
            "4      6343427  0.527977\n",
            "...        ...       ...\n",
            "71110  4472112  0.350379\n",
            "71111  5471895  0.429955\n",
            "71112  9837364  0.801394\n",
            "71113  9466593  0.776407\n",
            "71114  4080801  0.314468\n",
            "\n",
            "[71115 rows x 2 columns]\n"
          ],
          "name": "stdout"
        }
      ]
    },
    {
      "cell_type": "code",
      "metadata": {
        "id": "oAIggGf_CnIW",
        "colab_type": "code",
        "colab": {}
      },
      "source": [
        "df['size^2'] = df['size'] * df['size']"
      ],
      "execution_count": 0,
      "outputs": []
    },
    {
      "cell_type": "code",
      "metadata": {
        "id": "LF2tOybNE0Dv",
        "colab_type": "code",
        "outputId": "a5859717-cab8-4705-b970-94d9aaaacfb1",
        "colab": {
          "base_uri": "https://localhost:8080/",
          "height": 252
        }
      },
      "source": [
        "print(df)"
      ],
      "execution_count": 12,
      "outputs": [
        {
          "output_type": "stream",
          "text": [
            "          size      time          size^2\n",
            "0      6083695  0.521842  37011344853025\n",
            "1      1954367  0.152648   3819550370689\n",
            "2      3734185  0.298548  13944137614225\n",
            "3      5839301  0.460480  34097436168601\n",
            "4      6343427  0.527977  40239066104329\n",
            "...        ...       ...             ...\n",
            "71110  4472112  0.350379  19999785740544\n",
            "71111  5471895  0.429955  29941634891025\n",
            "71112  9837364  0.801394  96773730468496\n",
            "71113  9466593  0.776407  89616383027649\n",
            "71114  4080801  0.314468  16652936801601\n",
            "\n",
            "[71115 rows x 3 columns]\n"
          ],
          "name": "stdout"
        }
      ]
    },
    {
      "cell_type": "code",
      "metadata": {
        "id": "eJ2QLPtqwVNG",
        "colab_type": "code",
        "colab": {}
      },
      "source": [
        "from sklearn.model_selection import train_test_split\n",
        "import matplotlib.pyplot as plt"
      ],
      "execution_count": 0,
      "outputs": []
    },
    {
      "cell_type": "code",
      "metadata": {
        "id": "gdq2f-1NH3K-",
        "colab_type": "code",
        "outputId": "9b9e604e-7551-4284-b49f-9bf11d06f9d0",
        "colab": {
          "base_uri": "https://localhost:8080/",
          "height": 279
        }
      },
      "source": [
        "plt.scatter(df['size'], df['time'])\n",
        "plt.xlabel('size')\n",
        "plt.ylabel('time')\n",
        "plt.show()"
      ],
      "execution_count": 16,
      "outputs": [
        {
          "output_type": "display_data",
          "data": {
            "image/png": "[encoded data removed]",
            "text/plain": [
              "<Figure size 432x288 with 1 Axes>"
            ]
          },
          "metadata": {
            "tags": [],
            "needs_background": "light"
          }
        }
      ]
    },
    {
      "cell_type": "code",
      "metadata": {
        "id": "1lVIGRxLUMMa",
        "colab_type": "code",
        "colab": {}
      },
      "source": [
        "X = df['size']\n",
        "y = df['time']"
      ],
      "execution_count": 0,
      "outputs": []
    },
    {
      "cell_type": "code",
      "metadata": {
        "id": "Vj2SIzVj5iOs",
        "colab_type": "code",
        "outputId": "ad7ec0d7-a64a-40fd-9edd-d49373840ed2",
        "colab": {
          "base_uri": "https://localhost:8080/",
          "height": 252
        }
      },
      "source": [
        "print(df)"
      ],
      "execution_count": 18,
      "outputs": [
        {
          "output_type": "stream",
          "text": [
            "          size      time          size^2\n",
            "0      6083695  0.521842  37011344853025\n",
            "1      1954367  0.152648   3819550370689\n",
            "2      3734185  0.298548  13944137614225\n",
            "3      5839301  0.460480  34097436168601\n",
            "4      6343427  0.527977  40239066104329\n",
            "...        ...       ...             ...\n",
            "71110  4472112  0.350379  19999785740544\n",
            "71111  5471895  0.429955  29941634891025\n",
            "71112  9837364  0.801394  96773730468496\n",
            "71113  9466593  0.776407  89616383027649\n",
            "71114  4080801  0.314468  16652936801601\n",
            "\n",
            "[71115 rows x 3 columns]\n"
          ],
          "name": "stdout"
        }
      ]
    },
    {
      "cell_type": "code",
      "metadata": {
        "id": "bdNCfOzcM8A2",
        "colab_type": "code",
        "colab": {}
      },
      "source": [
        "X_train, X_test, y_train, y_test = train_test_split(X, y, test_size = 0.2, random_state = 0)"
      ],
      "execution_count": 0,
      "outputs": []
    },
    {
      "cell_type": "code",
      "metadata": {
        "id": "jbD8SCWqRyBL",
        "colab_type": "code",
        "colab": {}
      },
      "source": [
        "print (X_train)\n",
        "print (y_train)\n",
        "print (y_test)\n"
      ],
      "execution_count": 0,
      "outputs": []
    },
    {
      "cell_type": "code",
      "metadata": {
        "id": "cn5ESLmaSHL2",
        "colab_type": "code",
        "colab": {}
      },
      "source": [
        "from sklearn import linear_model\n",
        "regr = linear_model.LinearRegression()"
      ],
      "execution_count": 0,
      "outputs": []
    },
    {
      "cell_type": "code",
      "metadata": {
        "id": "bI94LV92awv8",
        "colab_type": "code",
        "colab": {}
      },
      "source": [
        "X_train = X_train.values.reshape(-1, 1)\n",
        "X_test = X_test.values.reshape(-1, 1)"
      ],
      "execution_count": 0,
      "outputs": []
    },
    {
      "cell_type": "code",
      "metadata": {
        "id": "WnxP0CDghaib",
        "colab_type": "code",
        "outputId": "3e280d30-16be-4c7c-eb44-5b7796689319",
        "colab": {
          "base_uri": "https://localhost:8080/",
          "height": 134
        }
      },
      "source": [
        "print(X_train)"
      ],
      "execution_count": 22,
      "outputs": [
        {
          "output_type": "stream",
          "text": [
            "[[1627030]\n",
            " [3916188]\n",
            " [8316697]\n",
            " ...\n",
            " [8066726]\n",
            " [7788773]\n",
            " [5966880]]\n"
          ],
          "name": "stdout"
        }
      ]
    },
    {
      "cell_type": "code",
      "metadata": {
        "id": "TCdruGcIVCVw",
        "colab_type": "code",
        "outputId": "f15fee60-6610-47f2-b58d-4321be285951",
        "colab": {
          "base_uri": "https://localhost:8080/",
          "height": 34
        }
      },
      "source": [
        "regr.fit(X_train, y_train)"
      ],
      "execution_count": 29,
      "outputs": [
        {
          "output_type": "execute_result",
          "data": {
            "text/plain": [
              "LinearRegression(copy_X=True, fit_intercept=True, n_jobs=None, normalize=False)"
            ]
          },
          "metadata": {
            "tags": []
          },
          "execution_count": 29
        }
      ]
    },
    {
      "cell_type": "markdown",
      "metadata": {
        "id": "5GXw0dIiwnIR",
        "colab_type": "text"
      },
      "source": [
        "# chọn model: LinearRegression  vì dữ liệu thuộc regression.\n",
        "# train bằng model.fit()"
      ]
    },
    {
      "cell_type": "code",
      "metadata": {
        "id": "Pqv1XDsfb2PS",
        "colab_type": "code",
        "outputId": "e6ae7609-b998-42c4-d774-9e678a791bb2",
        "colab": {
          "base_uri": "https://localhost:8080/",
          "height": 34
        }
      },
      "source": [
        "pred = regr.predict(X_test)\n",
        "print(pred)"
      ],
      "execution_count": 30,
      "outputs": [
        {
          "output_type": "stream",
          "text": [
            "[0.20914457 0.62236319 0.17997325 ... 0.46799437 0.36128699 0.42837295]\n"
          ],
          "name": "stdout"
        }
      ]
    },
    {
      "cell_type": "code",
      "metadata": {
        "id": "kyloWSALcH0B",
        "colab_type": "code",
        "outputId": "b33d7a5d-86a5-4aad-b3f0-e0b6eec57200",
        "colab": {
          "base_uri": "https://localhost:8080/",
          "height": 50
        }
      },
      "source": [
        "print('He So: \\n', regr.coef_)"
      ],
      "execution_count": 25,
      "outputs": [
        {
          "output_type": "stream",
          "text": [
            "He So: \n",
            " [8.45606811e-08]\n"
          ],
          "name": "stdout"
        }
      ]
    },
    {
      "cell_type": "code",
      "metadata": {
        "id": "W-3vQaHnc85j",
        "colab_type": "code",
        "colab": {}
      },
      "source": [
        "from sklearn.metrics import mean_squared_error, r2_score"
      ],
      "execution_count": 0,
      "outputs": []
    },
    {
      "cell_type": "code",
      "metadata": {
        "id": "-VEpppdPcWiK",
        "colab_type": "code",
        "outputId": "a521a216-4997-4bb4-ac0e-c0baa0545ac4",
        "colab": {
          "base_uri": "https://localhost:8080/",
          "height": 34
        }
      },
      "source": [
        "print('Loi binh phuong: %.4f' % mean_squared_error(y_test, pred))"
      ],
      "execution_count": 32,
      "outputs": [
        {
          "output_type": "stream",
          "text": [
            "Loi binh phuong: 0.0002\n"
          ],
          "name": "stdout"
        }
      ]
    },
    {
      "cell_type": "code",
      "metadata": {
        "id": "XvoAkwFrdLBL",
        "colab_type": "code",
        "outputId": "dfd5694c-11f3-4deb-886a-4eb361770e58",
        "colab": {
          "base_uri": "https://localhost:8080/",
          "height": 34
        }
      },
      "source": [
        "print('He so xac dinh: %.6f' % r2_score(y_test, pred))"
      ],
      "execution_count": 33,
      "outputs": [
        {
          "output_type": "stream",
          "text": [
            "He so xac dinh: 0.997440\n"
          ],
          "name": "stdout"
        }
      ]
    },
    {
      "cell_type": "markdown",
      "metadata": {
        "id": "mzzYRn98xjCu",
        "colab_type": "text"
      },
      "source": [
        "# đánh giá model thông qua cost function với đọ chính xác lên đến 99% nên là model khá tốt"
      ]
    },
    {
      "cell_type": "code",
      "metadata": {
        "id": "TcaVQOiydvrq",
        "colab_type": "code",
        "outputId": "7da4b009-e0a9-4f21-e0a1-5a61d29bf768",
        "colab": {
          "base_uri": "https://localhost:8080/",
          "height": 252
        }
      },
      "source": [
        "\n",
        "plt.scatter(X_test, y_test,  color='black')\n",
        "plt.plot(X_test, pred, color='blue', linewidth=3)\n",
        "\n",
        "plt.xticks(())\n",
        "plt.yticks(())\n",
        "\n",
        "plt.show()"
      ],
      "execution_count": 28,
      "outputs": [
        {
          "output_type": "display_data",
          "data": {
            "image/png": "[encoded data removed]",
            "text/plain": [
              "<Figure size 432x288 with 1 Axes>"
            ]
          },
          "metadata": {
            "tags": []
          }
        }
      ]
    },
    {
      "cell_type": "markdown",
      "metadata": {
        "id": "78rlnINRxawq",
        "colab_type": "text"
      },
      "source": [
        "# Dùng model trên sau đó nhập data chưa mới vào đó"
      ]
    }
  ]
}