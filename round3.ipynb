{
  "nbformat": 4,
  "nbformat_minor": 0,
  "metadata": {
    "colab": {
      "name": "round3.ipynb",
      "provenance": [],
      "collapsed_sections": [],
      "include_colab_link": true
    },
    "kernelspec": {
      "name": "python3",
      "display_name": "Python 3"
    }
  },
  "cells": [
    {
      "cell_type": "markdown",
      "metadata": {
        "id": "view-in-github",
        "colab_type": "text"
      },
      "source": [
        "<a href=\"https://colab.research.google.com/github/PhanQuangTan/CS114.K21/blob/master/round3.ipynb\" target=\"_parent\"><img src=\"https://colab.research.google.com/assets/colab-badge.svg\" alt=\"Open In Colab\"/></a>"
      ]
    },
    {
      "cell_type": "code",
      "metadata": {
        "id": "YTOILNl_zFR4",
        "colab_type": "code",
        "outputId": "f7c40830-e5dc-49a8-e373-0e7aacf5e609",
        "colab": {
          "base_uri": "https://localhost:8080/",
          "height": 54
        }
      },
      "source": [
        "from google.colab import drive\n",
        "\n",
        "drive.mount('/content/drive')"
      ],
      "execution_count": 2,
      "outputs": [
        {
          "output_type": "stream",
          "text": [
            "Drive already mounted at /content/drive; to attempt to forcibly remount, call drive.mount(\"/content/drive\", force_remount=True).\n"
          ],
          "name": "stdout"
        }
      ]
    },
    {
      "cell_type": "markdown",
      "metadata": {
        "id": "oUMp8YKp1Jju",
        "colab_type": "text"
      },
      "source": [
        "# Link data [link text](https://drive.google.com/drive/u/2/folders/1QWUvs-IIL2123I17TkNVzPR5aoFiqXJR)"
      ]
    },
    {
      "cell_type": "code",
      "metadata": {
        "id": "I3-kap6JzXQb",
        "colab_type": "code",
        "colab": {}
      },
      "source": [
        "import requests\n",
        "file_url = 'https://cs.uit.edu.vn/data3.txt'\n",
        "r = requests.get(file_url, stream = True)\n",
        "with open('/content/drive/My Drive/Dataset/data.txt', 'wb') as file:\n",
        "  for block in r.iter_content(chunk_size = 1024):\n",
        "    if block:\n",
        "      file.write(block)"
      ],
      "execution_count": 0,
      "outputs": []
    },
    {
      "cell_type": "code",
      "metadata": {
        "id": "8DNyO23AzcSU",
        "colab_type": "code",
        "colab": {}
      },
      "source": [
        "# Nguồn Kaggle\n",
        "import numpy as np\n",
        "import pandas as pd\n",
        "def paretxt(fname):\n",
        "  for line in open(fname, 'r'):\n",
        "    yield eval(line)"
      ],
      "execution_count": 0,
      "outputs": []
    },
    {
      "cell_type": "code",
      "metadata": {
        "id": "rHB4i1V0zm6u",
        "colab_type": "code",
        "colab": {}
      },
      "source": [
        "file_name = '/content/drive/My Drive/Dataset/data3.txt'\n",
        "data = list(paretxt(file_name))"
      ],
      "execution_count": 0,
      "outputs": []
    },
    {
      "cell_type": "code",
      "metadata": {
        "id": "yQ4RgeIJzsyQ",
        "colab_type": "code",
        "outputId": "86c588d7-8369-48b7-c653-d8956c6421c6",
        "colab": {
          "base_uri": "https://localhost:8080/",
          "height": 252
        }
      },
      "source": [
        "df = pd.DataFrame(data)\n",
        "df.columns=['size', 'time']\n",
        "print(df)"
      ],
      "execution_count": 6,
      "outputs": [
        {
          "output_type": "stream",
          "text": [
            "           size     time\n",
            "0      37837612  4.12166\n",
            "1      37395246  3.92089\n",
            "2      36610827  3.21540\n",
            "3      29555651  2.54506\n",
            "4      25928216  2.21831\n",
            "...         ...      ...\n",
            "10585  26872494  2.35117\n",
            "10586  20753811  1.79155\n",
            "10587  33520323  2.90918\n",
            "10588  21243264  1.80292\n",
            "10589  21380484  1.82795\n",
            "\n",
            "[10590 rows x 2 columns]\n"
          ],
          "name": "stdout"
        }
      ]
    },
    {
      "cell_type": "code",
      "metadata": {
        "id": "-i7aFIvlz10M",
        "colab_type": "code",
        "outputId": "7636cc8a-b146-45e6-b153-4b5e348c3d1d",
        "colab": {
          "base_uri": "https://localhost:8080/",
          "height": 279
        }
      },
      "source": [
        "from sklearn.model_selection import train_test_split\n",
        "import matplotlib.pyplot as plt\n",
        "plt.scatter(df['size'], df['time'])\n",
        "plt.xlabel('size')\n",
        "plt.ylabel('time')\n",
        "plt.show()"
      ],
      "execution_count": 7,
      "outputs": [
        {
          "output_type": "display_data",
          "data": {
            "image/png": "[encoded data removed]",
            "text/plain": [
              "<Figure size 432x288 with 1 Axes>"
            ]
          },
          "metadata": {
            "tags": [],
            "needs_background": "light"
          }
        }
      ]
    },
    {
      "cell_type": "code",
      "metadata": {
        "id": "Jd_SwcA-z7Vu",
        "colab_type": "code",
        "colab": {}
      },
      "source": [
        "X = df['size']\n",
        "y = df['time']\n",
        "X_train, X_test, y_train, y_test = train_test_split(X, y, test_size = 0.2, random_state = 0)\n"
      ],
      "execution_count": 0,
      "outputs": []
    },
    {
      "cell_type": "code",
      "metadata": {
        "id": "g62OUnt10Gnp",
        "colab_type": "code",
        "colab": {}
      },
      "source": [
        "from sklearn import linear_model\n",
        "regr = linear_model.LinearRegression()\n",
        "X_train = X_train.values.reshape(-1, 1)\n",
        "X_test = X_test.values.reshape(-1, 1)"
      ],
      "execution_count": 0,
      "outputs": []
    },
    {
      "cell_type": "code",
      "metadata": {
        "id": "QKa0fGyB0yKm",
        "colab_type": "code",
        "outputId": "cfef2fc9-e996-4a04-d8ac-fa380107a050",
        "colab": {
          "base_uri": "https://localhost:8080/",
          "height": 34
        }
      },
      "source": [
        "regr.fit(X_train, y_train)"
      ],
      "execution_count": 10,
      "outputs": [
        {
          "output_type": "execute_result",
          "data": {
            "text/plain": [
              "LinearRegression(copy_X=True, fit_intercept=True, n_jobs=None, normalize=False)"
            ]
          },
          "metadata": {
            "tags": []
          },
          "execution_count": 10
        }
      ]
    },
    {
      "cell_type": "code",
      "metadata": {
        "id": "ddGhT-3y018q",
        "colab_type": "code",
        "outputId": "ca17f025-34fd-4377-92bf-bea2bf49475e",
        "colab": {
          "base_uri": "https://localhost:8080/",
          "height": 34
        }
      },
      "source": [
        "pred = regr.predict(X_test)\n",
        "print(pred)"
      ],
      "execution_count": 11,
      "outputs": [
        {
          "output_type": "stream",
          "text": [
            "[3.4809277  2.3438796  3.27109806 ... 2.3887245  2.43730654 1.79632983]\n"
          ],
          "name": "stdout"
        }
      ]
    },
    {
      "cell_type": "code",
      "metadata": {
        "id": "muVpm7Ct03c5",
        "colab_type": "code",
        "outputId": "7d146b32-17cd-43d8-f4f0-4a8f45eaca08",
        "colab": {
          "base_uri": "https://localhost:8080/",
          "height": 50
        }
      },
      "source": [
        "print('He So: \\n', regr.coef_)"
      ],
      "execution_count": 12,
      "outputs": [
        {
          "output_type": "stream",
          "text": [
            "He So: \n",
            " [9.27421382e-08]\n"
          ],
          "name": "stdout"
        }
      ]
    },
    {
      "cell_type": "code",
      "metadata": {
        "id": "w55BmE5Z08Nk",
        "colab_type": "code",
        "outputId": "20cf83ac-825e-4588-805e-31b37833eacb",
        "colab": {
          "base_uri": "https://localhost:8080/",
          "height": 50
        }
      },
      "source": [
        "from sklearn.metrics import mean_squared_error, r2_score\n",
        "print('Loi binh phuong: %.6f' % mean_squared_error(y_test, pred))\n",
        "print('He so xac dinh: %.6f' % r2_score(y_test, pred))"
      ],
      "execution_count": 13,
      "outputs": [
        {
          "output_type": "stream",
          "text": [
            "Loi binh phuong: 0.002977\n",
            "He so xac dinh: 0.989769\n"
          ],
          "name": "stdout"
        }
      ]
    },
    {
      "cell_type": "code",
      "metadata": {
        "id": "PLH0JIZ91JmK",
        "colab_type": "code",
        "outputId": "412dd74c-ea14-478c-f765-4fa1db2cae1f",
        "colab": {
          "base_uri": "https://localhost:8080/",
          "height": 252
        }
      },
      "source": [
        "plt.scatter(X_test, y_test,  color='black')\n",
        "plt.plot(X_test, pred, color='blue', linewidth=3)\n",
        "\n",
        "plt.xticks(())\n",
        "plt.yticks(())\n",
        "\n",
        "plt.show()"
      ],
      "execution_count": 14,
      "outputs": [
        {
          "output_type": "display_data",
          "data": {
            "image/png": "[encoded data removed]",
            "text/plain": [
              "<Figure size 432x288 with 1 Axes>"
            ]
          },
          "metadata": {
            "tags": []
          }
        }
      ]
    },
    {
      "cell_type": "markdown",
      "metadata": {
        "id": "GEXRlaer1vtf",
        "colab_type": "text"
      },
      "source": [
        "# - kết quả tệ hơn model cũ.\n",
        "# - vấn gặp phải overfitting. vì data mới có nhiều dữ liệu nhiễu hơn."
      ]
    },
    {
      "cell_type": "code",
      "metadata": {
        "id": "x5W37LR9R9Kc",
        "colab_type": "code",
        "colab": {}
      },
      "source": [
        "import math"
      ],
      "execution_count": 0,
      "outputs": []
    },
    {
      "cell_type": "code",
      "metadata": {
        "id": "4edj7jg4VEwN",
        "colab_type": "code",
        "outputId": "2d37edbe-642d-486f-fb11-19c950d86c1d",
        "colab": {
          "base_uri": "https://localhost:8080/",
          "height": 121
        }
      },
      "source": [
        "a = []\n",
        "a = df['size']\n",
        "l = len(a)\n",
        "for i in range(l):\n",
        "  a[i] = a[i]*math.log(a[i])"
      ],
      "execution_count": 16,
      "outputs": [
        {
          "output_type": "stream",
          "text": [
            "/usr/local/lib/python3.6/dist-packages/ipykernel_launcher.py:5: SettingWithCopyWarning: \n",
            "A value is trying to be set on a copy of a slice from a DataFrame\n",
            "\n",
            "See the caveats in the documentation: https://pandas.pydata.org/pandas-docs/stable/user_guide/indexing.html#returning-a-view-versus-a-copy\n",
            "  \"\"\"\n"
          ],
          "name": "stderr"
        }
      ]
    },
    {
      "cell_type": "code",
      "metadata": {
        "id": "C6boA9iKVemQ",
        "colab_type": "code",
        "outputId": "fa5a1334-a431-41d3-c004-55e7a0233287",
        "colab": {
          "base_uri": "https://localhost:8080/",
          "height": 218
        }
      },
      "source": [
        "print(a)"
      ],
      "execution_count": 17,
      "outputs": [
        {
          "output_type": "stream",
          "text": [
            "0        660221461\n",
            "1        652062929\n",
            "2        637608838\n",
            "3        508409969\n",
            "4        442616487\n",
            "           ...    \n",
            "10585    459697376\n",
            "10586    349665197\n",
            "10587    580828842\n",
            "10588    358406799\n",
            "10589    360859575\n",
            "Name: size, Length: 10590, dtype: int64\n"
          ],
          "name": "stdout"
        }
      ]
    },
    {
      "cell_type": "code",
      "metadata": {
        "id": "aPYiHEG9QYrX",
        "colab_type": "code",
        "colab": {}
      },
      "source": [
        "\n",
        "df['size^2'] = df['size'] * df['size']\n",
        "df['size*loge(size)'] =  a\n",
        "                                  "
      ],
      "execution_count": 0,
      "outputs": []
    },
    {
      "cell_type": "code",
      "metadata": {
        "id": "rI2h-rUCWOVA",
        "colab_type": "code",
        "outputId": "fa45adb2-eadc-4840-8aa8-53f9d041bc09",
        "colab": {
          "base_uri": "https://localhost:8080/",
          "height": 252
        }
      },
      "source": [
        "print(df)"
      ],
      "execution_count": 19,
      "outputs": [
        {
          "output_type": "stream",
          "text": [
            "            size     time              size^2  size*loge(size)\n",
            "0      660221461  4.12166  435892377564974521        660221461\n",
            "1      652062929  3.92089  425186063376059041        652062929\n",
            "2      637608838  3.21540  406545030295710244        637608838\n",
            "3      508409969  2.54506  258480696578580961        508409969\n",
            "4      442616487  2.21831  195909354564221169        442616487\n",
            "...          ...      ...                 ...              ...\n",
            "10585  459697376  2.35117  211321677501285376        459697376\n",
            "10586  349665197  1.79155  122265749993048809        349665197\n",
            "10587  580828842  2.90918  337362143699060964        580828842\n",
            "10588  358406799  1.80292  128455433569426401        358406799\n",
            "10589  360859575  1.82795  130219632869180625        360859575\n",
            "\n",
            "[10590 rows x 4 columns]\n"
          ],
          "name": "stdout"
        }
      ]
    },
    {
      "cell_type": "code",
      "metadata": {
        "id": "1jbJfC2L3nj2",
        "colab_type": "code",
        "colab": {}
      },
      "source": [
        "X_3 = df[['size', 'size^2', 'size*loge(size)']]\n",
        "y_3 = df['time']\n",
        "X_3_train, X_3_test, y_3_train, y_3_test = train_test_split(X_3, y_3, test_size = 0.2, random_state = 0)"
      ],
      "execution_count": 0,
      "outputs": []
    },
    {
      "cell_type": "code",
      "metadata": {
        "id": "DyMtPEj345ZM",
        "colab_type": "code",
        "outputId": "99c14ddb-7299-4688-ed87-fb8860614fe7",
        "colab": {
          "base_uri": "https://localhost:8080/",
          "height": 252
        }
      },
      "source": [
        "print(X_3_train)"
      ],
      "execution_count": 21,
      "outputs": [
        {
          "output_type": "stream",
          "text": [
            "           size              size^2  size*loge(size)\n",
            "3597  367141337  134792761334147569        367141337\n",
            "9849  336750203  113400699220541209        336750203\n",
            "7214  366546557  134356378448554249        366546557\n",
            "3701  698199011  487481858961378121        698199011\n",
            "9405  640565671  410324378863680241        640565671\n",
            "...         ...                 ...              ...\n",
            "9225  487618984  237772273557192256        487618984\n",
            "4859  500999656  251000655312118336        500999656\n",
            "3264  552121106  304837715690663236        552121106\n",
            "9845  593266249  351964842202530001        593266249\n",
            "2732  614995752  378219774978045504        614995752\n",
            "\n",
            "[8472 rows x 3 columns]\n"
          ],
          "name": "stdout"
        }
      ]
    },
    {
      "cell_type": "code",
      "metadata": {
        "id": "NMqTkZ2P8M31",
        "colab_type": "code",
        "colab": {}
      },
      "source": [
        "from sklearn import linear_model\n",
        "regr = linear_model.LinearRegression()"
      ],
      "execution_count": 0,
      "outputs": []
    },
    {
      "cell_type": "code",
      "metadata": {
        "id": "sExwJJp_8ZNo",
        "colab_type": "code",
        "outputId": "931c5137-b735-4288-f77c-4567c145b986",
        "colab": {
          "base_uri": "https://localhost:8080/",
          "height": 34
        }
      },
      "source": [
        "regr.fit(X_3_train, y_3_train)"
      ],
      "execution_count": 23,
      "outputs": [
        {
          "output_type": "execute_result",
          "data": {
            "text/plain": [
              "LinearRegression(copy_X=True, fit_intercept=True, n_jobs=None, normalize=False)"
            ]
          },
          "metadata": {
            "tags": []
          },
          "execution_count": 23
        }
      ]
    },
    {
      "cell_type": "code",
      "metadata": {
        "id": "ixzukBDG8hza",
        "colab_type": "code",
        "outputId": "2749b271-5939-4116-f30b-9cd496851fe6",
        "colab": {
          "base_uri": "https://localhost:8080/",
          "height": 34
        }
      },
      "source": [
        "pred_3 = regr.predict(X_3_test)\n",
        "print(pred_3)"
      ],
      "execution_count": 24,
      "outputs": [
        {
          "output_type": "stream",
          "text": [
            "[3.48618374 2.34119278 3.27257658 ... 2.38572694 2.4340355  1.802273  ]\n"
          ],
          "name": "stdout"
        }
      ]
    },
    {
      "cell_type": "code",
      "metadata": {
        "id": "B80MxhyV8q8t",
        "colab_type": "code",
        "outputId": "63323fc1-5c9e-4792-c8af-8e871eb1b04d",
        "colab": {
          "base_uri": "https://localhost:8080/",
          "height": 67
        }
      },
      "source": [
        "print('He So: \\n', regr.coef_)\n",
        "from sklearn.metrics import mean_squared_error, r2_score\n",
        "print('Loi binh phuong: %.6f' % mean_squared_error(y_3_test, pred_3))\n"
      ],
      "execution_count": 25,
      "outputs": [
        {
          "output_type": "stream",
          "text": [
            "He So: \n",
            " [2.50539680e-09 8.03810524e-20 2.50539680e-09]\n",
            "Loi binh phuong: 0.002978\n"
          ],
          "name": "stdout"
        }
      ]
    },
    {
      "cell_type": "code",
      "metadata": {
        "id": "_JyyWiRU83NB",
        "colab_type": "code",
        "outputId": "17148566-8f00-40a5-f58a-64dda88570bf",
        "colab": {
          "base_uri": "https://localhost:8080/",
          "height": 50
        }
      },
      "source": [
        "print('He so xac dinh: %.10f' % r2_score(y_test, pred))\n",
        "print('He so xac dinh: %.10f' % r2_score(y_3_test, pred_3))"
      ],
      "execution_count": 27,
      "outputs": [
        {
          "output_type": "stream",
          "text": [
            "He so xac dinh: 0.9897687773\n",
            "He so xac dinh: 0.9897660374\n"
          ],
          "name": "stdout"
        }
      ]
    }
  ]
}