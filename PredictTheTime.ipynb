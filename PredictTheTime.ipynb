{
  "nbformat": 4,
  "nbformat_minor": 0,
  "metadata": {
    "colab": {
      "name": "Untitled6.ipynb",
      "provenance": [],
      "authorship_tag": "ABX9TyNAQyOt1d+p22zgShau+MUp",
      "include_colab_link": true
    },
    "kernelspec": {
      "name": "python3",
      "display_name": "Python 3"
    }
  },
  "cells": [
    {
      "cell_type": "markdown",
      "metadata": {
        "id": "view-in-github",
        "colab_type": "text"
      },
      "source": [
        "<a href=\"https://colab.research.google.com/github/PhanQuangTan/CS114.K21/blob/master/PredictTheTime.ipynb\" target=\"_parent\"><img src=\"https://colab.research.google.com/assets/colab-badge.svg\" alt=\"Open In Colab\"/></a>"
      ]
    },
    {
      "cell_type": "code",
      "metadata": {
        "id": "N9CQOvrAcM03",
        "colab_type": "code",
        "outputId": "d1d4a81c-3805-4402-b3ca-5111f0ad4a52",
        "colab": {
          "base_uri": "https://localhost:8080/",
          "height": 121
        }
      },
      "source": [
        "from google.colab import drive\n",
        "drive.mount('/content/drive')"
      ],
      "execution_count": 1,
      "outputs": [
        {
          "output_type": "stream",
          "text": [
            "Go to this URL in a browser: https://accounts.google.com/o/oauth2/auth?client_id=947318989803-6bn6qk8qdgf4n4g3pfee6491hc0brc4i.apps.googleusercontent.com&redirect_uri=urn%3aietf%3awg%3aoauth%3a2.0%3aoob&response_type=code&scope=email%20https%3a%2f%2fwww.googleapis.com%2fauth%2fdocs.test%20https%3a%2f%2fwww.googleapis.com%2fauth%2fdrive%20https%3a%2f%2fwww.googleapis.com%2fauth%2fdrive.photos.readonly%20https%3a%2f%2fwww.googleapis.com%2fauth%2fpeopleapi.readonly\n",
            "\n",
            "Enter your authorization code:\n",
            "··········\n",
            "Mounted at /content/drive\n"
          ],
          "name": "stdout"
        }
      ]
    },
    {
      "cell_type": "code",
      "metadata": {
        "colab_type": "code",
        "id": "2F9Rr7RufTPn",
        "colab": {}
      },
      "source": [
        "import requests\n",
        "file_url = 'https://cs.uit.edu.vn/data.txt'\n",
        "r = requests.get(file_url, stream = True)\n",
        "with open('/content/drive/My Drive/Dataset/data.txt', 'wb') as file:\n",
        "  for block in r.iter_content(chunk_size = 1024):\n",
        "    if block:\n",
        "      file.write(block)"
      ],
      "execution_count": 0,
      "outputs": []
    },
    {
      "cell_type": "code",
      "metadata": {
        "id": "lX_WIitZuaX-",
        "colab_type": "code",
        "colab": {}
      },
      "source": [
        "import numpy as np\n",
        "import pandas as pd"
      ],
      "execution_count": 0,
      "outputs": []
    },
    {
      "cell_type": "code",
      "metadata": {
        "id": "A8z3F8yauy9m",
        "colab_type": "code",
        "colab": {}
      },
      "source": [
        "def paretxt(fname):\n",
        "  for line in open(fname, 'r'):\n",
        "    yield eval(line)"
      ],
      "execution_count": 0,
      "outputs": []
    },
    {
      "cell_type": "code",
      "metadata": {
        "id": "CxyYNhRlvDCA",
        "colab_type": "code",
        "colab": {}
      },
      "source": [
        "\n",
        "file_name = '/content/drive/My Drive/Dataset/data.txt'\n",
        "data = list(paretxt(file_name))"
      ],
      "execution_count": 0,
      "outputs": []
    },
    {
      "cell_type": "code",
      "metadata": {
        "id": "QOE5AVCMwBC8",
        "colab_type": "code",
        "outputId": "51b7f37e-111b-489c-c557-07d662d5ab6e",
        "colab": {
          "base_uri": "https://localhost:8080/",
          "height": 252
        }
      },
      "source": [
        "df = pd.DataFrame(data)\n",
        "df.columns=['size', 'time']\n",
        "print(df)\n"
      ],
      "execution_count": 51,
      "outputs": [
        {
          "output_type": "stream",
          "text": [
            "         size      time\n",
            "0     4032139  1.200580\n",
            "1     2055486  0.509774\n",
            "2     5626651  1.476080\n",
            "3       42065  0.007651\n",
            "4     6297788  1.661560\n",
            "...       ...       ...\n",
            "5206  6600098  1.804520\n",
            "5207  5339132  1.450310\n",
            "5208  4794647  1.293070\n",
            "5209  4440131  1.196530\n",
            "5210  2033708  0.517288\n",
            "\n",
            "[5211 rows x 2 columns]\n"
          ],
          "name": "stdout"
        }
      ]
    },
    {
      "cell_type": "code",
      "metadata": {
        "id": "eJ2QLPtqwVNG",
        "colab_type": "code",
        "colab": {}
      },
      "source": [
        "from sklearn.model_selection import train_test_split\n",
        "import matplotlib.pyplot as plt"
      ],
      "execution_count": 0,
      "outputs": []
    },
    {
      "cell_type": "code",
      "metadata": {
        "id": "gdq2f-1NH3K-",
        "colab_type": "code",
        "colab": {
          "base_uri": "https://localhost:8080/",
          "height": 279
        },
        "outputId": "621a7afc-f915-46bd-b316-750dfde66e2f"
      },
      "source": [
        "plt.scatter(df['size'], df['time'])\n",
        "plt.xlabel('size')\n",
        "plt.ylabel('time')\n",
        "plt.show()"
      ],
      "execution_count": 34,
      "outputs": [
        {
          "output_type": "display_data",
          "data": {
            "image/png": "[encoded data removed]",
            "text/plain": [
              "<Figure size 432x288 with 1 Axes>"
            ]
          },
          "metadata": {
            "tags": [],
            "needs_background": "light"
          }
        }
      ]
    },
    {
      "cell_type": "code",
      "metadata": {
        "id": "1lVIGRxLUMMa",
        "colab_type": "code",
        "colab": {}
      },
      "source": [
        "X = df['size']\n",
        "y = df['time']"
      ],
      "execution_count": 0,
      "outputs": []
    },
    {
      "cell_type": "code",
      "metadata": {
        "id": "bdNCfOzcM8A2",
        "colab_type": "code",
        "colab": {}
      },
      "source": [
        "X_train, X_test, y_train, y_test = train_test_split(X, y, test_size = 0.2, random_state = 0)"
      ],
      "execution_count": 0,
      "outputs": []
    },
    {
      "cell_type": "code",
      "metadata": {
        "id": "jbD8SCWqRyBL",
        "colab_type": "code",
        "colab": {
          "base_uri": "https://localhost:8080/",
          "height": 420
        },
        "outputId": "120f2329-72c8-4ed6-f634-23ad76a6c88c"
      },
      "source": [
        "print (X_train)\n",
        "print (y_train)\n"
      ],
      "execution_count": 58,
      "outputs": [
        {
          "output_type": "stream",
          "text": [
            "1491    6854153\n",
            "4511    1410435\n",
            "2447    5206373\n",
            "1965    9593800\n",
            "2781    5432279\n",
            "         ...   \n",
            "4931    3389927\n",
            "3264    3734210\n",
            "1653    5287783\n",
            "2607    3461325\n",
            "2732    6094576\n",
            "Name: size, Length: 4168, dtype: int64\n",
            "1491    1.894740\n",
            "4511    0.350044\n",
            "2447    1.421660\n",
            "1965    2.695990\n",
            "2781    1.489570\n",
            "          ...   \n",
            "4931    0.904168\n",
            "3264    0.980746\n",
            "1653    1.463410\n",
            "2607    0.905372\n",
            "2732    1.647290\n",
            "Name: time, Length: 4168, dtype: float64\n"
          ],
          "name": "stdout"
        }
      ]
    },
    {
      "cell_type": "code",
      "metadata": {
        "id": "cn5ESLmaSHL2",
        "colab_type": "code",
        "colab": {}
      },
      "source": [
        "from sklearn import linear_model\n",
        "regr = linear_model.LinearRegression()"
      ],
      "execution_count": 0,
      "outputs": []
    },
    {
      "cell_type": "code",
      "metadata": {
        "id": "bI94LV92awv8",
        "colab_type": "code",
        "colab": {}
      },
      "source": [
        "X_train = X_train.values.reshape(-1, 1)\n",
        "X_test = X_test.values.reshape(-1, 1)"
      ],
      "execution_count": 0,
      "outputs": []
    },
    {
      "cell_type": "code",
      "metadata": {
        "id": "TCdruGcIVCVw",
        "colab_type": "code",
        "colab": {
          "base_uri": "https://localhost:8080/",
          "height": 34
        },
        "outputId": "493c4ea4-d624-433b-b832-5f1cd90595c6"
      },
      "source": [
        "regr.fit(X_train, y_train)"
      ],
      "execution_count": 63,
      "outputs": [
        {
          "output_type": "execute_result",
          "data": {
            "text/plain": [
              "LinearRegression(copy_X=True, fit_intercept=True, n_jobs=None, normalize=False)"
            ]
          },
          "metadata": {
            "tags": []
          },
          "execution_count": 63
        }
      ]
    },
    {
      "cell_type": "code",
      "metadata": {
        "id": "Pqv1XDsfb2PS",
        "colab_type": "code",
        "colab": {}
      },
      "source": [
        "pred = regr.predict(X_test)"
      ],
      "execution_count": 0,
      "outputs": []
    },
    {
      "cell_type": "code",
      "metadata": {
        "id": "kyloWSALcH0B",
        "colab_type": "code",
        "colab": {
          "base_uri": "https://localhost:8080/",
          "height": 50
        },
        "outputId": "b5405302-2c5d-409e-ff97-2c0872f54747"
      },
      "source": [
        "print('He So: \\n', regr.coef_)"
      ],
      "execution_count": 66,
      "outputs": [
        {
          "output_type": "stream",
          "text": [
            "He So: \n",
            " [2.84077497e-07]\n"
          ],
          "name": "stdout"
        }
      ]
    },
    {
      "cell_type": "code",
      "metadata": {
        "id": "W-3vQaHnc85j",
        "colab_type": "code",
        "colab": {}
      },
      "source": [
        "from sklearn.metrics import mean_squared_error, r2_score"
      ],
      "execution_count": 0,
      "outputs": []
    },
    {
      "cell_type": "code",
      "metadata": {
        "id": "-VEpppdPcWiK",
        "colab_type": "code",
        "colab": {
          "base_uri": "https://localhost:8080/",
          "height": 34
        },
        "outputId": "2be62e56-92d3-4643-f6b0-c3bd9d16bd3b"
      },
      "source": [
        "print('Loi binh phuong: %.2f' % mean_squared_error(y_test, pred))"
      ],
      "execution_count": 68,
      "outputs": [
        {
          "output_type": "stream",
          "text": [
            "Loi binh phuong: 0.00\n"
          ],
          "name": "stdout"
        }
      ]
    },
    {
      "cell_type": "code",
      "metadata": {
        "id": "XvoAkwFrdLBL",
        "colab_type": "code",
        "colab": {
          "base_uri": "https://localhost:8080/",
          "height": 34
        },
        "outputId": "3224663d-0469-44cc-9ac9-353cb261b71c"
      },
      "source": [
        "print('He so xac dinh: %.2f' % r2_score(y_test, pred))"
      ],
      "execution_count": 70,
      "outputs": [
        {
          "output_type": "stream",
          "text": [
            "He so xac dinh: 1.00\n"
          ],
          "name": "stdout"
        }
      ]
    },
    {
      "cell_type": "code",
      "metadata": {
        "id": "TcaVQOiydvrq",
        "colab_type": "code",
        "colab": {
          "base_uri": "https://localhost:8080/",
          "height": 252
        },
        "outputId": "73a4c85c-9b37-4d38-9aa2-771e8abd5f40"
      },
      "source": [
        "plt.scatter(X_test, y_test,  color='black')\n",
        "plt.plot(X_test, pred, color='blue', linewidth=3)\n",
        "\n",
        "plt.xticks(())\n",
        "plt.yticks(())\n",
        "\n",
        "plt.show()"
      ],
      "execution_count": 74,
      "outputs": [
        {
          "output_type": "display_data",
          "data": {
            "image/png": "[encoded data removed]",
            "text/plain": [
              "<Figure size 432x288 with 1 Axes>"
            ]
          },
          "metadata": {
            "tags": []
          }
        }
      ]
    }
  ]
}